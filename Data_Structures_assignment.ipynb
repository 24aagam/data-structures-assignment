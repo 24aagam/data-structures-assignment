{
  "nbformat": 4,
  "nbformat_minor": 0,
  "metadata": {
    "colab": {
      "provenance": []
    },
    "kernelspec": {
      "name": "python3",
      "display_name": "Python 3"
    },
    "language_info": {
      "name": "python"
    }
  },
  "cells": [
    {
      "cell_type": "markdown",
      "source": [
        "1. Why might you choose a deque from the collections module to\n",
        "implement a queue instead of using a regular Python list?\n",
        "\n",
        "    **Ans.:** Using a deque from the collections module for implementing a\n",
        "    queue in Python is beneficial due to its efficient append and pop\n",
        "    operations, support for double-ended queue functionality, and being\n",
        "    thread-safe and memory-efficient. It’s a great choice for creating\n",
        "    custom stacks and queues"
      ],
      "metadata": {
        "id": "knpescahSttE"
      }
    },
    {
      "cell_type": "markdown",
      "source": [
        "2. Can you explain a real-world scenario where using a stack\n",
        "would be a more practical choice than a list for data storage and\n",
        "retrieval?\n",
        "\n",
        "    **Ans.:** Imagine a browser’s back button. It uses a stack to keep track of\n",
        "    visited pages. When you press “back,” it pops the last page from the\n",
        "    stack, allowing seamless navigation. A list wouldn’t work as well for\n",
        "    this purpose."
      ],
      "metadata": {
        "id": "VBhjsOv-S0za"
      }
    },
    {
      "cell_type": "markdown",
      "source": [
        "3. What is the primary advantage of using sets in Python, and in\n",
        "what type of problem-solving scenarios are they most useful?\n",
        "\n",
        "    **Ans.:** The primary advantage of using sets in Python is that Sets store\n",
        "    unique elements and automatically remove duplicates.\n",
        "    \n",
        "    • In problem-solving scenarios, they are most useful:\n",
        "       o Removing duplicates from a list or sequence\n",
        "       o Set Operations like union, intersection, difference, and\n",
        "         symmetric difference performing between sets.\n",
        "       o Finding unique elements across multiple lists or datasets"
      ],
      "metadata": {
        "id": "Q5xJO9KSS75t"
      }
    },
    {
      "cell_type": "markdown",
      "source": [
        "4. When might you choose to use an array instead of a list for\n",
        "storing numerical data in Python? What benefits do arrays offer\n",
        "in this context?\n",
        "\n",
        "    **Ans.:** In Python, you might choose to use an array instead of a list for\n",
        "storing numerical data when you need performance optimization.\n",
        "Arrays offer benefits such as faster element access and memory\n",
        "efficiency compared to lists."
      ],
      "metadata": {
        "id": "rOFEKgpXTnUj"
      }
    },
    {
      "cell_type": "markdown",
      "source": [
        "5. In Python, what's the primary difference between dictionaries\n",
        "and lists, and how does this difference impact their use cases in\n",
        "programming?\n",
        "\n",
        "Ans.: The primary difference between dictionaries and lists are:\n",
        "\n",
        "      Dictionary:\n",
        "      • Dictionary stores value in a form of key-value pairs.\n",
        "      • Use dictionaries for quick access by keys (e.g., storing user\n",
        "        data)\n",
        "     \n",
        "      List:\n",
        "      • On the other hand, lists are ordered collections of elements.\n",
        "      • Use lists for ordered sequences (e.g., storing multiple values)"
      ],
      "metadata": {
        "id": "ZKFgAutbTzMt"
      }
    }
  ]
}